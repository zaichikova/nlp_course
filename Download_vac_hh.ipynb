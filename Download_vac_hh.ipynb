{
  "nbformat": 4,
  "nbformat_minor": 0,
  "metadata": {
    "colab": {
      "provenance": []
    },
    "kernelspec": {
      "name": "python3",
      "display_name": "Python 3"
    },
    "language_info": {
      "name": "python"
    }
  },
  "cells": [
    {
      "cell_type": "markdown",
      "source": [
        "#Выгрузка вакансий по запросу с сайта hh.ru"
      ],
      "metadata": {
        "id": "eUB2KzhTwsDl"
      }
    },
    {
      "cell_type": "markdown",
      "source": [
        "Подготовим папки для загрузки вакансий"
      ],
      "metadata": {
        "id": "lyqtCWgEwwX1"
      }
    },
    {
      "cell_type": "code",
      "execution_count": null,
      "metadata": {
        "id": "0tXpy_fowmm1"
      },
      "outputs": [],
      "source": [
        "!rm -rf /content/pars_vacancies\n",
        "!mkdir /content/pars_vacancies\n",
        "!rm -rf /content/vacancies\n",
        "!mkdir /content/vacancies"
      ]
    },
    {
      "cell_type": "markdown",
      "source": [
        "Скачаем с сайта hh.ru вакансии. Ниже приведен код, для скачивания вакансий по запросу \"Программист\""
      ],
      "metadata": {
        "id": "9tAyIP27wzYz"
      }
    },
    {
      "cell_type": "code",
      "source": [
        "# Библиотека работы с HTTP-запросами\n",
        "import requests \n",
        "\n",
        "# Пакет для работы с JSDN-файлами\n",
        "import json\n",
        "\n",
        "# Модуль для работы со значением времени\n",
        "import time\n",
        "\n",
        "# Модуль для работы с операционной системой\n",
        "import os\n",
        "\n",
        "def getPages(page = 0):\n",
        "    '''Функция запроса страницы.\n",
        "       page - Индекс страницы\n",
        "       (по умолчанию начинается с первой страницы)'''\n",
        "\n",
        "       # Справочник для переменной GET-запроса\n",
        "       # Значения для указания значений в справочнике \n",
        "       # указаны в документации к API hh.ru по ссылке: \n",
        "       # https://github.com/hhru/api\n",
        "    params = {\n",
        "                'text': 'Аналитик данных',\n",
        "                'area': 1,\n",
        "                'page': page,\n",
        "                'per_page': 100}\n",
        "\n",
        "    req = requests.get('https://api.hh.ru/vacancies', params)\n",
        "    data = req.content.decode()\n",
        "    req.close()\n",
        "    return data\n",
        "\n",
        "        \n",
        "\n",
        "# Считаем первые Х вакансий\n",
        "for page in range(0,20):\n",
        "    jsObj = json.loads(getPages(page))\n",
        "\n",
        "    # Сохраняем файлы в папку {путь до текущего документа со скриптом}\\установить\\ваш\\путь\n",
        "    # Определяем количество файлов в папке для сохранения документа с ответом запроса\n",
        "    # Полученное значение используем для формирования имени документа\n",
        "    nextFileName = '/content/pars_vacancies/{}.json'.format(len(os.listdir('/content/pars_vacancies')))\n",
        "\n",
        "    # Создаем новый документ, записываем в него ответ запроса, после закрываем\n",
        "    f = open(nextFileName, mode='w', encoding='utf8')\n",
        "    f.write(json.dumps(jsObj, ensure_ascii=False, indent=3))\n",
        "\n",
        "    # Проверка на последнюю страницу, если вакансий меньше 2000\n",
        "    if (jsObj['pages'] - page) <= 1:\n",
        "        break\n",
        "\n",
        "    time.sleep(0.25)\n",
        "\n",
        "print('Страницы поиска собраны!')"
      ],
      "metadata": {
        "id": "eeT17cAzw1lc"
      },
      "execution_count": null,
      "outputs": []
    },
    {
      "cell_type": "markdown",
      "source": [
        "На прошлом шаге были получены документы с большим количеством вакансий. Однако они являются неполными и большая часть их описания отсутствует. Обратимся к каждой вакансии по ссылке, соберем недостающую информацию и сохраним каждую вакансию в отдельный файл."
      ],
      "metadata": {
        "id": "lmonIBAMw5gT"
      }
    },
    {
      "cell_type": "code",
      "source": [
        "import json\n",
        "import os\n",
        "import requests\n",
        "import time\n",
        "\n",
        "# Получаем перечень ранее созданных файлов со списком вакансий и проходимся по нему в цикле\n",
        "for fl in os.listdir('/content/pars_vacancies'):\n",
        "\tf = open('/content/pars_vacancies/{}'.format(fl), encoding='utf8')\n",
        "\tjsonText = f.read()\n",
        "\tf.close()\n",
        "\n",
        "\tjsonObj = json.loads(jsonText)\n",
        "\n",
        "\tfor vacancies in jsonObj['items']:\n",
        "\t\treq = requests.get(vacancies['url'])\n",
        "\t\tdata = req.content.decode()\n",
        "\t\treq.close()\n",
        "\n",
        "\t\tfileName = '/content/vacancies/{}.json'.format(vacancies['id'])\n",
        "\t\tfile = open(fileName, mode='w', encoding='utf8')\n",
        "\t\tfile.write(data)\n",
        "\t\tfile.close()\n",
        "\n",
        "print('Вакансии собраны')"
      ],
      "metadata": {
        "id": "IgXTfLDiw8oZ"
      },
      "execution_count": null,
      "outputs": []
    },
    {
      "cell_type": "markdown",
      "source": [
        "Сформируем один csv файл для всех вакансий, в котором будет отражен id вакансии, название вакансии, требования к кандидату и описание вакансии "
      ],
      "metadata": {
        "id": "NXy0-KkVxAEL"
      }
    },
    {
      "cell_type": "code",
      "source": [
        "import pandas as pd\n",
        "import json\n",
        "import os\n",
        "\n",
        "# Создание списков для столбцов таблицы vacancies\n",
        "IDs = [] # Список идентификаторов вакансий\n",
        "names = [] # Список наименований вакансий\n",
        "\n",
        "# Создание списков для столбцов таблицы skills\n",
        "skills_vac = [] # Список идентификаторов вакансий\n",
        "skills_name = [] # Список идентификаторов вакансий\n",
        "descr = [] # Список названий навыков\n",
        "\n",
        "# Список для описания вакансии\n",
        "\n",
        "\n",
        "\n",
        "cnt_docs = len(os.listdir('/content/vacancies'))\n",
        "i = 0\n",
        "# Проходимся по всем файлам в папке vacancies\n",
        "for fl in os.listdir('/content/vacancies'):\n",
        "    \n",
        "    # Открываем, читаем и закрываем файл\n",
        "    f = open('/content/vacancies/{}'.format(fl), encoding='utf8')\n",
        "    jsonText = f.read()\n",
        "    f.close()\n",
        " \n",
        "    # Текст файла переводим в справочник\n",
        "    jsonObj = json.loads(jsonText)\n",
        " \n",
        "    # Заполняем списки для таблиц\n",
        "    IDs.append(jsonObj['id'])\n",
        "    names.append(jsonObj['name'])\n",
        "\n",
        "    #Описание вакансии\n",
        "\n",
        "\n",
        "    # Т.к. навыки хранятся в виде массива, то проходимся по нему циклом\n",
        "    skills_name = []\n",
        "    for skl in jsonObj['key_skills']:\n",
        "        skills_vac.append(jsonObj['id'])\n",
        "        skills_name.append(skl['name'])\n",
        "    skills_vac.append(skills_name)\n",
        "    descr.append(jsonObj['description'])\n",
        "\n",
        "# Создание датафрейма, который содержит в себе информацию о названии вакансии, требованиях к кандидату и описании самой вакансии\n",
        "df = pd.DataFrame({'id': IDs, 'name': names, 'skills': skills_vac, 'description': descr})\n",
        "df.to_csv('anal_data.csv')\n",
        "#df.to_excel('programmer.xlsx')\n",
        "print('OK') "
      ],
      "metadata": {
        "id": "ZD1x616VxIXk"
      },
      "execution_count": null,
      "outputs": []
    }
  ]
}